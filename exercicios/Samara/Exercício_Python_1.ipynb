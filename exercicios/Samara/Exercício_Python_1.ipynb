{
 "cells": [
  {
   "cell_type": "markdown",
   "metadata": {
    "id": "f6oYv9LEcR8T"
   },
   "source": [
    "**Exercício 1 - Aquecimento de Python para Ciência de Dados**"
   ]
  },
  {
   "cell_type": "markdown",
   "metadata": {
    "id": "v4GVV_w1cYEY"
   },
   "source": [
    "1. Imprima \"Hello, World!\" no console."
   ]
  },
  {
   "cell_type": "code",
   "execution_count": 11,
   "metadata": {
    "colab": {
     "base_uri": "https://localhost:8080/"
    },
    "id": "dJ12k9hPcNAg",
    "outputId": "60c4a643-8837-4a9b-9918-c6d2b6b829eb"
   },
   "outputs": [
    {
     "name": "stdout",
     "output_type": "stream",
     "text": [
      "Hello World\n"
     ]
    }
   ],
   "source": [
    "print(\"Hello World\")"
   ]
  },
  {
   "cell_type": "markdown",
   "metadata": {
    "id": "ADK7MX25ciYu"
   },
   "source": [
    "2. Crie uma variável x com valor 10 e imprima seu valor."
   ]
  },
  {
   "cell_type": "code",
   "execution_count": 13,
   "metadata": {
    "colab": {
     "base_uri": "https://localhost:8080/"
    },
    "id": "kk5h1v7ocqel",
    "outputId": "b48b3546-5ddd-4d26-9b65-a64668897c55"
   },
   "outputs": [
    {
     "name": "stdout",
     "output_type": "stream",
     "text": [
      "11\n"
     ]
    }
   ],
   "source": [
    "x = 11\n",
    "print(x)"
   ]
  },
  {
   "cell_type": "markdown",
   "metadata": {
    "id": "bKry1Lukcq6l"
   },
   "source": [
    "3. Some dois números e exiba o resultado."
   ]
  },
  {
   "cell_type": "code",
   "execution_count": 15,
   "metadata": {
    "colab": {
     "base_uri": "https://localhost:8080/"
    },
    "id": "S6IyQT4Lc2vf",
    "outputId": "2685c2a5-6200-41f7-9c47-ea6647317a16"
   },
   "outputs": [
    {
     "name": "stdout",
     "output_type": "stream",
     "text": [
      "6\n"
     ]
    }
   ],
   "source": [
    "num1 = 3\n",
    "num2 = 3\n",
    "resul = num1 + num2\n",
    "print(resul)"
   ]
  },
  {
   "cell_type": "markdown",
   "metadata": {
    "id": "6BG1PN9Qc3VA"
   },
   "source": [
    "4. Verifique se um número é par ou ímpar.\n"
   ]
  },
  {
   "cell_type": "code",
   "execution_count": 17,
   "metadata": {
    "colab": {
     "base_uri": "https://localhost:8080/"
    },
    "id": "K6NLPZoRc7ov",
    "outputId": "6d3bf6ac-6c23-43ba-9763-19e2e2ccb160"
   },
   "outputs": [
    {
     "name": "stdout",
     "output_type": "stream",
     "text": [
      "O número 5 é impar.\n"
     ]
    }
   ],
   "source": [
    "int = 5\n",
    "if int % 2 == 0:\n",
    "  print(f'O número {int} é par.')\n",
    "else:\n",
    "  print(f'O número {int} é impar.')"
   ]
  },
  {
   "cell_type": "markdown",
   "metadata": {
    "id": "5dKg-xpvc4xs"
   },
   "source": [
    "5. Crie uma função que receba dois números e retorne a soma deles."
   ]
  },
  {
   "cell_type": "code",
   "execution_count": 19,
   "metadata": {
    "colab": {
     "base_uri": "https://localhost:8080/"
    },
    "id": "iv1-9Zytc4S3",
    "outputId": "ae16a43d-7b40-413e-ae29-fcff1a445623"
   },
   "outputs": [
    {
     "name": "stdout",
     "output_type": "stream",
     "text": [
      "3\n"
     ]
    }
   ],
   "source": [
    "def soma(num1, num2) -> int:\n",
    "  return num1 + num2\n",
    "print(soma(1,2))"
   ]
  },
  {
   "cell_type": "markdown",
   "metadata": {
    "id": "zsdBZtyjc_62"
   },
   "source": [
    "6. Crie uma lista com os números de 1 a 5 e imprima-a.\n"
   ]
  },
  {
   "cell_type": "code",
   "execution_count": 21,
   "metadata": {
    "colab": {
     "base_uri": "https://localhost:8080/"
    },
    "id": "xGgkwH7jdCh-",
    "outputId": "484ef38c-dd5b-4911-e9bd-76fbd6baf533"
   },
   "outputs": [
    {
     "name": "stdout",
     "output_type": "stream",
     "text": [
      "[1, 2, 3, 4, 5]\n"
     ]
    }
   ],
   "source": [
    "lista = [1, 2, 3, 4, 5]\n",
    "print(lista)"
   ]
  },
  {
   "cell_type": "markdown",
   "metadata": {
    "id": "snUAe4qddFsm"
   },
   "source": [
    "*7*. Adicione o número 6 à lista criada na questão anterior.\n"
   ]
  },
  {
   "cell_type": "code",
   "execution_count": 23,
   "metadata": {
    "colab": {
     "base_uri": "https://localhost:8080/"
    },
    "id": "QVpSgy7FdGk9",
    "outputId": "2e676140-3cec-4511-e74f-1d794026dd00"
   },
   "outputs": [
    {
     "name": "stdout",
     "output_type": "stream",
     "text": [
      "[1, 2, 3, 4, 5, 6]\n"
     ]
    }
   ],
   "source": [
    "lista.append(6)\n",
    "print(lista)\n"
   ]
  },
  {
   "cell_type": "markdown",
   "metadata": {
    "id": "4HT4BfD1dI8f"
   },
   "source": [
    "8. Remova o número 3 da lista."
   ]
  },
  {
   "cell_type": "code",
   "execution_count": 25,
   "metadata": {
    "colab": {
     "base_uri": "https://localhost:8080/"
    },
    "id": "QCCxAurPdKjB",
    "outputId": "31f87bec-cdff-45ee-b3cd-d36a729d2fec"
   },
   "outputs": [
    {
     "name": "stdout",
     "output_type": "stream",
     "text": [
      "[1, 3, 4, 5, 6]\n"
     ]
    }
   ],
   "source": [
    "lista.remove(2)\n",
    "print(lista)"
   ]
  },
  {
   "cell_type": "markdown",
   "metadata": {
    "id": "RyI_EEltdMZt"
   },
   "source": [
    "9. Acesse o terceiro elemento da lista."
   ]
  },
  {
   "cell_type": "code",
   "execution_count": 27,
   "metadata": {
    "colab": {
     "base_uri": "https://localhost:8080/"
    },
    "id": "HIkSUt_EdOSD",
    "outputId": "6cd7db65-4585-44d3-d02e-ce5469377f1f"
   },
   "outputs": [
    {
     "name": "stdout",
     "output_type": "stream",
     "text": [
      "4\n"
     ]
    }
   ],
   "source": [
    "print(lista[2])\n"
   ]
  },
  {
   "cell_type": "markdown",
   "metadata": {
    "id": "yQjJYNSsdQUI"
   },
   "source": [
    "10. Imprima o tamanho da lista."
   ]
  },
  {
   "cell_type": "code",
   "execution_count": 29,
   "metadata": {
    "colab": {
     "base_uri": "https://localhost:8080/"
    },
    "id": "Nz1jOedbdTR-",
    "outputId": "039dece7-8f6d-4ab8-dc26-fc4852c49539"
   },
   "outputs": [
    {
     "name": "stdout",
     "output_type": "stream",
     "text": [
      "5\n"
     ]
    }
   ],
   "source": [
    "print(len(lista))\n"
   ]
  },
  {
   "cell_type": "markdown",
   "metadata": {
    "id": "2gm3RaRKdyCg"
   },
   "source": [
    "11. Crie um dicionário com informações de um carro (marca, modelo, ano)."
   ]
  },
  {
   "cell_type": "code",
   "execution_count": 31,
   "metadata": {
    "colab": {
     "base_uri": "https://localhost:8080/"
    },
    "id": "gL_Svemid1kG",
    "outputId": "e7730fcf-2946-4083-f7ec-0d6a2321cb7d"
   },
   "outputs": [
    {
     "name": "stdout",
     "output_type": "stream",
     "text": [
      "{'marca': 'Ford', 'modelo': 'Ranger', 'ano': '2024'}\n"
     ]
    }
   ],
   "source": [
    "carro = {\n",
    "    \"marca\":\"Ford\",\n",
    "    \"modelo\":\"Ranger\",\n",
    "    \"ano\":\"2024\"\n",
    "}\n",
    "\n",
    "print(carro)"
   ]
  },
  {
   "cell_type": "markdown",
   "metadata": {
    "id": "ng6tNEYtd0hE"
   },
   "source": [
    "12. Acesse o valor associado à chave \"marca\" no dicionário."
   ]
  },
  {
   "cell_type": "code",
   "execution_count": 33,
   "metadata": {
    "colab": {
     "base_uri": "https://localhost:8080/"
    },
    "id": "VPDbrV6Ad0Pn",
    "outputId": "df7f3772-9b52-4803-e14c-41bdf8f4f835"
   },
   "outputs": [
    {
     "name": "stdout",
     "output_type": "stream",
     "text": [
      "Ford\n"
     ]
    }
   ],
   "source": [
    "print(carro[\"marca\"])"
   ]
  },
  {
   "cell_type": "markdown",
   "metadata": {
    "id": "Ov93hI7Td7c9"
   },
   "source": [
    "13. Adicione uma nova chave \"cor\" com valor \"preto\" ao dicionário."
   ]
  },
  {
   "cell_type": "code",
   "execution_count": 35,
   "metadata": {
    "colab": {
     "base_uri": "https://localhost:8080/"
    },
    "id": "TrQLLfpid69U",
    "outputId": "28d1db68-84ac-42a0-cf79-4ff10376fe14"
   },
   "outputs": [
    {
     "name": "stdout",
     "output_type": "stream",
     "text": [
      "{'marca': 'Ford', 'modelo': 'Ranger', 'ano': '2024', 'cor': 'Preto'}\n"
     ]
    }
   ],
   "source": [
    "carro[\"cor\"] = \"Preto\"\n",
    "print(carro)"
   ]
  },
  {
   "cell_type": "markdown",
   "metadata": {
    "id": "b_5cOma2d9LP"
   },
   "source": [
    "14. Verifique se a chave \"modelo\" existe no dicionário.\n"
   ]
  },
  {
   "cell_type": "code",
   "execution_count": 37,
   "metadata": {
    "colab": {
     "base_uri": "https://localhost:8080/"
    },
    "id": "DUMaXPQYd8bM",
    "outputId": "05fe5839-4252-444c-eae6-334667c09e50"
   },
   "outputs": [
    {
     "name": "stdout",
     "output_type": "stream",
     "text": [
      "Existe\n"
     ]
    }
   ],
   "source": [
    "if \"modelo\" in carro:\n",
    "  print(\"Existe\")\n",
    "else:\n",
    "  print(\"Não existe\")"
   ]
  },
  {
   "cell_type": "markdown",
   "metadata": {
    "id": "Zpqnxu2ReBZH"
   },
   "source": [
    "15. Itere sobre as chaves do dicionário e imprima cada uma delas."
   ]
  },
  {
   "cell_type": "code",
   "execution_count": 39,
   "metadata": {
    "colab": {
     "base_uri": "https://localhost:8080/"
    },
    "id": "4juQCK0veA-g",
    "outputId": "6fd2ab2d-3e34-4f49-805e-2a1290c5f10f"
   },
   "outputs": [
    {
     "name": "stdout",
     "output_type": "stream",
     "text": [
      "marca\n",
      "modelo\n",
      "ano\n",
      "cor\n"
     ]
    }
   ],
   "source": [
    "for chave in carro:\n",
    "  print(chave)"
   ]
  },
  {
   "cell_type": "markdown",
   "metadata": {
    "id": "GAoDb4pneG-j"
   },
   "source": [
    "15. Itere sobre as chaves do dicionário e imprima cada uma delas."
   ]
  },
  {
   "cell_type": "code",
   "execution_count": 41,
   "metadata": {
    "colab": {
     "base_uri": "https://localhost:8080/"
    },
    "id": "aqi8-PtUeGx5",
    "outputId": "a0bb831a-fcb3-497f-95ea-996621fa5af0"
   },
   "outputs": [
    {
     "name": "stdout",
     "output_type": "stream",
     "text": [
      "<class 'dict_values'>\n",
      "Ford\n",
      "Ranger\n",
      "2024\n",
      "Preto\n"
     ]
    }
   ],
   "source": [
    "print(type(carro.values()))\n",
    "\n",
    "for value in carro.values():\n",
    "  print(value)"
   ]
  },
  {
   "cell_type": "markdown",
   "metadata": {
    "id": "oxI3BVhteGhH"
   },
   "source": [
    "17. Crie uma função que receba uma lista e retorne a soma dos elementos."
   ]
  },
  {
   "cell_type": "code",
   "execution_count": 43,
   "metadata": {
    "colab": {
     "base_uri": "https://localhost:8080/"
    },
    "id": "Ijnkd3cJeMM_",
    "outputId": "e568db25-9972-4d6a-df9f-1fd382363ddc"
   },
   "outputs": [
    {
     "name": "stdout",
     "output_type": "stream",
     "text": [
      "15\n"
     ]
    }
   ],
   "source": [
    "def somaLista(lista):\n",
    "  return sum(lista)\n",
    "\n",
    "print(somaLista([1, 2, 3, 4, 5]))"
   ]
  },
  {
   "cell_type": "markdown",
   "metadata": {
    "id": "Abqc7zdfeNl7"
   },
   "source": [
    "18. Crie uma função que receba um dicionário e retorne todas as suas chaves.\n"
   ]
  },
  {
   "cell_type": "code",
   "execution_count": 45,
   "metadata": {
    "colab": {
     "base_uri": "https://localhost:8080/"
    },
    "id": "ZbHQ9bipeQc3",
    "outputId": "368d24a2-0853-41db-f48f-bd21654f1aa2"
   },
   "outputs": [
    {
     "name": "stdout",
     "output_type": "stream",
     "text": [
      "dict_keys(['marca', 'modelo', 'ano', 'cor'])\n"
     ]
    }
   ],
   "source": [
    "def retornachaves(dicionario):\n",
    "  return dicionario.keys()\n",
    "\n",
    "print(retornachaves(carro))"
   ]
  },
  {
   "cell_type": "markdown",
   "metadata": {
    "id": "wF_R9JlDeNip"
   },
   "source": [
    "\n",
    "19. Crie uma função que receba um dicionário e imprima chave e valor em linhas separadas."
   ]
  },
  {
   "cell_type": "code",
   "execution_count": 47,
   "metadata": {
    "colab": {
     "base_uri": "https://localhost:8080/"
    },
    "id": "ONvkXUDWeVX3",
    "outputId": "5adffdf8-7204-4319-c88d-0f0951b7259f"
   },
   "outputs": [
    {
     "name": "stdout",
     "output_type": "stream",
     "text": [
      "Chave: marca,\n",
      " Valor: Ford\n",
      "Chave: modelo,\n",
      " Valor: Ranger\n",
      "Chave: ano,\n",
      " Valor: 2024\n",
      "Chave: cor,\n",
      " Valor: Preto\n"
     ]
    }
   ],
   "source": [
    "def retorna_chave_valor(dicionario):\n",
    "  for chave, valor in dicionario.items():\n",
    "    print(f\"Chave: {chave},\\n Valor: {valor}\")\n",
    "\n",
    "retorna_chave_valor(carro)"
   ]
  },
  {
   "cell_type": "markdown",
   "metadata": {
    "id": "5ZSYRpJ-eM4s"
   },
   "source": [
    "20. Crie uma classe chamada Pessoa com atributos nome e idade, e um método que imprima esses dados."
   ]
  },
  {
   "cell_type": "code",
   "execution_count": 49,
   "metadata": {
    "colab": {
     "base_uri": "https://localhost:8080/"
    },
    "id": "RNqpzQzdeYUG",
    "outputId": "80a1ca38-7cdc-48d3-ecc8-1ad06adedecf"
   },
   "outputs": [
    {
     "name": "stdout",
     "output_type": "stream",
     "text": [
      "Nome: Cecília, Idade: 20\n"
     ]
    }
   ],
   "source": [
    "class Pessoa:\n",
    "    def __init__(self, nome, idade):\n",
    "        self.nome = nome\n",
    "        self.idade = idade\n",
    "\n",
    "    def exibir_dados(self):\n",
    "        print(f\"Nome: {self.nome}, Idade: {self.idade}\")\n",
    "\n",
    "pessoa = Pessoa(\"Cecília\", 20)\n",
    "pessoa.exibir_dados()"
   ]
  }
 ],
 "metadata": {
  "colab": {
   "provenance": []
  },
  "kernelspec": {
   "display_name": "Python 3 (ipykernel)",
   "language": "python",
   "name": "python3"
  },
  "language_info": {
   "codemirror_mode": {
    "name": "ipython",
    "version": 3
   },
   "file_extension": ".py",
   "mimetype": "text/x-python",
   "name": "python",
   "nbconvert_exporter": "python",
   "pygments_lexer": "ipython3",
   "version": "3.11.5"
  }
 },
 "nbformat": 4,
 "nbformat_minor": 4
}
