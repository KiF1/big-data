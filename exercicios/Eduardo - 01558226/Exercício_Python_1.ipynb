{
  "cells": [
    {
      "cell_type": "markdown",
      "metadata": {
        "id": "f6oYv9LEcR8T"
      },
      "source": [
        "**Exercício 1 - Aquecimento de Python para Ciência de Dados**"
      ]
    },
    {
      "cell_type": "markdown",
      "metadata": {
        "id": "v4GVV_w1cYEY"
      },
      "source": [
        "1. Imprima \"Hello, World!\" no console."
      ]
    },
    {
      "cell_type": "code",
      "execution_count": 1,
      "metadata": {
        "colab": {
          "base_uri": "https://localhost:8080/"
        },
        "id": "dJ12k9hPcNAg",
        "outputId": "8b384f7e-3b8d-4872-e88e-8f3db4ebf113"
      },
      "outputs": [
        {
          "name": "stdout",
          "output_type": "stream",
          "text": [
            "Hello, World!\n"
          ]
        }
      ],
      "source": [
        "print(\"Hello, World!\")"
      ]
    },
    {
      "cell_type": "markdown",
      "metadata": {
        "id": "ADK7MX25ciYu"
      },
      "source": [
        "2. Crie uma variável x com valor 10 e imprima seu valor."
      ]
    },
    {
      "cell_type": "code",
      "execution_count": 3,
      "metadata": {
        "colab": {
          "base_uri": "https://localhost:8080/"
        },
        "id": "kk5h1v7ocqel",
        "outputId": "41771e48-ddc6-491c-bb1f-9b3de22182df"
      },
      "outputs": [
        {
          "name": "stdout",
          "output_type": "stream",
          "text": [
            "10\n"
          ]
        }
      ],
      "source": [
        "x = 10\n",
        "print(x)"
      ]
    },
    {
      "cell_type": "markdown",
      "metadata": {
        "id": "bKry1Lukcq6l"
      },
      "source": [
        "3. Some dois números e exiba o resultado."
      ]
    },
    {
      "cell_type": "code",
      "execution_count": 1,
      "metadata": {
        "colab": {
          "base_uri": "https://localhost:8080/"
        },
        "id": "S6IyQT4Lc2vf",
        "outputId": "6f30ff3e-f041-41e5-f887-eae93424f09e"
      },
      "outputs": [
        {
          "name": "stdout",
          "output_type": "stream",
          "text": [
            "9\n"
          ]
        }
      ],
      "source": [
        "a = 2\n",
        "b = 7\n",
        "resultado = a + b\n",
        "print(resultado)"
      ]
    },
    {
      "cell_type": "markdown",
      "metadata": {
        "id": "6BG1PN9Qc3VA"
      },
      "source": [
        "4. Verifique se um número é par ou ímpar.\n"
      ]
    },
    {
      "cell_type": "code",
      "execution_count": 2,
      "metadata": {
        "colab": {
          "base_uri": "https://localhost:8080/"
        },
        "id": "K6NLPZoRc7ov",
        "outputId": "a75f81d9-9590-40ed-d535-d85465791f3c"
      },
      "outputs": [
        {
          "name": "stdout",
          "output_type": "stream",
          "text": [
            "9 é ímpar\n"
          ]
        }
      ],
      "source": [
        "numero = 9\n",
        "\n",
        "if numero % 2 == 0:\n",
        "    print(f\"{numero} é par\")\n",
        "else:\n",
        "    print(f\"{numero} é ímpar\")"
      ]
    },
    {
      "cell_type": "markdown",
      "metadata": {
        "id": "5dKg-xpvc4xs"
      },
      "source": [
        "5. Crie uma função que receba dois números e retorne a soma deles."
      ]
    },
    {
      "cell_type": "code",
      "execution_count": 3,
      "metadata": {
        "colab": {
          "base_uri": "https://localhost:8080/"
        },
        "id": "iv1-9Zytc4S3",
        "outputId": "40dfdac7-2841-419c-85f9-d3c63b5eb43b"
      },
      "outputs": [
        {
          "name": "stdout",
          "output_type": "stream",
          "text": [
            "11\n"
          ]
        }
      ],
      "source": [
        "def soma(a, b):\n",
        "    return a + b\n",
        "\n",
        "resultado = soma(4, 7)\n",
        "print(resultado)\n"
      ]
    },
    {
      "cell_type": "markdown",
      "metadata": {
        "id": "zsdBZtyjc_62"
      },
      "source": [
        "6. Crie uma lista com os números de 1 a 5 e imprima-a.\n"
      ]
    },
    {
      "cell_type": "code",
      "execution_count": 7,
      "metadata": {
        "colab": {
          "base_uri": "https://localhost:8080/"
        },
        "id": "xGgkwH7jdCh-",
        "outputId": "3df941a3-5114-4193-a806-d62af96a975b"
      },
      "outputs": [
        {
          "name": "stdout",
          "output_type": "stream",
          "text": [
            "[1, 2, 3, 4, 5]\n"
          ]
        }
      ],
      "source": [
        "lista = [1, 2, 3, 4, 5]\n",
        "print(lista)"
      ]
    },
    {
      "cell_type": "markdown",
      "metadata": {
        "id": "snUAe4qddFsm"
      },
      "source": [
        "7. Adicione o número 6 à lista criada na questão anterior.\n"
      ]
    },
    {
      "cell_type": "code",
      "execution_count": 8,
      "metadata": {
        "colab": {
          "base_uri": "https://localhost:8080/"
        },
        "id": "QVpSgy7FdGk9",
        "outputId": "730c897b-5912-4995-9b4b-78ba12449656"
      },
      "outputs": [
        {
          "name": "stdout",
          "output_type": "stream",
          "text": [
            "[1, 2, 3, 4, 5, 6]\n"
          ]
        }
      ],
      "source": [
        "lista = [1, 2, 3, 4, 5]\n",
        "lista.append(6)\n",
        "print(lista)\n"
      ]
    },
    {
      "cell_type": "markdown",
      "metadata": {
        "id": "4HT4BfD1dI8f"
      },
      "source": [
        "8. Remova o número 3 da lista."
      ]
    },
    {
      "cell_type": "code",
      "execution_count": 9,
      "metadata": {
        "colab": {
          "base_uri": "https://localhost:8080/"
        },
        "id": "QCCxAurPdKjB",
        "outputId": "4cf609ae-da53-4de8-d778-ebbe029e27c1"
      },
      "outputs": [
        {
          "name": "stdout",
          "output_type": "stream",
          "text": [
            "[1, 2, 4, 5, 6]\n"
          ]
        }
      ],
      "source": [
        "lista = [1, 2, 3, 4, 5, 6]\n",
        "lista.remove(3)\n",
        "print(lista)\n"
      ]
    },
    {
      "cell_type": "markdown",
      "metadata": {
        "id": "RyI_EEltdMZt"
      },
      "source": [
        "9. Acesse o terceiro elemento da lista."
      ]
    },
    {
      "cell_type": "code",
      "execution_count": 10,
      "metadata": {
        "colab": {
          "base_uri": "https://localhost:8080/"
        },
        "id": "HIkSUt_EdOSD",
        "outputId": "8af64352-42f9-4080-98d5-708bbb09c28a"
      },
      "outputs": [
        {
          "name": "stdout",
          "output_type": "stream",
          "text": [
            "4\n"
          ]
        }
      ],
      "source": [
        "lista = [1, 2, 4, 5, 6]\n",
        "terceiro_elemento = lista[2]\n",
        "print(terceiro_elemento)\n"
      ]
    },
    {
      "cell_type": "markdown",
      "metadata": {
        "id": "yQjJYNSsdQUI"
      },
      "source": [
        "10. Imprima o tamanho da lista."
      ]
    },
    {
      "cell_type": "code",
      "execution_count": 11,
      "metadata": {
        "colab": {
          "base_uri": "https://localhost:8080/"
        },
        "id": "Nz1jOedbdTR-",
        "outputId": "66a6fced-b398-4733-ae81-eb651a3ce348"
      },
      "outputs": [
        {
          "name": "stdout",
          "output_type": "stream",
          "text": [
            "5\n"
          ]
        }
      ],
      "source": [
        "lista = [1, 2, 4, 5, 6]\n",
        "tamanho = len(lista)\n",
        "print(tamanho)\n"
      ]
    },
    {
      "cell_type": "markdown",
      "metadata": {
        "id": "2gm3RaRKdyCg"
      },
      "source": [
        "11. Crie um dicionário com informações de um carro (marca, modelo, ano)."
      ]
    },
    {
      "cell_type": "code",
      "execution_count": 4,
      "metadata": {
        "colab": {
          "base_uri": "https://localhost:8080/"
        },
        "id": "gL_Svemid1kG",
        "outputId": "b8f16760-a476-4d35-e19c-8ac0f1ad300d"
      },
      "outputs": [
        {
          "name": "stdout",
          "output_type": "stream",
          "text": [
            "{'marca': 'Jeep', 'modelo': 'Renegade', 'ano': 2023}\n"
          ]
        }
      ],
      "source": [
        "carro = {\n",
        "    \"marca\": \"Jeep\",\n",
        "    \"modelo\": \"Renegade\",\n",
        "    \"ano\": 2023\n",
        "}\n",
        "\n",
        "print(carro)\n"
      ]
    },
    {
      "cell_type": "markdown",
      "metadata": {
        "id": "ng6tNEYtd0hE"
      },
      "source": [
        "12. Acesse o valor associado à chave \"marca\" no dicionário."
      ]
    },
    {
      "cell_type": "code",
      "execution_count": 5,
      "metadata": {
        "colab": {
          "base_uri": "https://localhost:8080/"
        },
        "id": "VPDbrV6Ad0Pn",
        "outputId": "6b32a3d3-d540-47c2-bf54-5ab45f9d7578"
      },
      "outputs": [
        {
          "name": "stdout",
          "output_type": "stream",
          "text": [
            "Jeep\n"
          ]
        }
      ],
      "source": [
        "carro = {\n",
        "    \"marca\": \"Jeep\",\n",
        "    \"modelo\": \"Renegade\",\n",
        "    \"ano\": 2023\n",
        "}\n",
        "\n",
        "marca_do_carro = carro[\"marca\"]\n",
        "print(marca_do_carro)\n"
      ]
    },
    {
      "cell_type": "markdown",
      "metadata": {
        "id": "Ov93hI7Td7c9"
      },
      "source": [
        "13. Adicione uma nova chave \"cor\" com valor \"preto\" ao dicionário."
      ]
    },
    {
      "cell_type": "code",
      "execution_count": 14,
      "metadata": {
        "colab": {
          "base_uri": "https://localhost:8080/"
        },
        "id": "TrQLLfpid69U",
        "outputId": "561063de-1adc-4001-8fe2-4d6451ff3b0b"
      },
      "outputs": [
        {
          "name": "stdout",
          "output_type": "stream",
          "text": [
            "{'marca': 'Toyota', 'modelo': 'Corolla', 'ano': 2020, 'cor': 'preto'}\n"
          ]
        }
      ],
      "source": [
        "carro = {\n",
        "    \"marca\": \"Jeep\",\n",
        "    \"modelo\": \"Renegade\",\n",
        "    \"ano\": 2023\n",
        "}\n",
        "\n",
        "carro[\"cor\"] = \"preto\"\n",
        "\n",
        "print(carro)\n"
      ]
    },
    {
      "cell_type": "markdown",
      "metadata": {
        "id": "b_5cOma2d9LP"
      },
      "source": [
        "14. Verifique se a chave \"modelo\" existe no dicionário.\n"
      ]
    },
    {
      "cell_type": "code",
      "execution_count": 6,
      "metadata": {
        "colab": {
          "base_uri": "https://localhost:8080/"
        },
        "id": "DUMaXPQYd8bM",
        "outputId": "395d137a-938b-48ec-d7b9-991fa741f20e"
      },
      "outputs": [
        {
          "name": "stdout",
          "output_type": "stream",
          "text": [
            "A chave 'modelo' existe no dicionário.\n"
          ]
        }
      ],
      "source": [
        "carro = {\n",
        "    \"marca\": \"Jeep\",\n",
        "    \"modelo\": \"Renegade\",\n",
        "    \"ano\": 2023,\n",
        "    \"cor\": \"preto\"\n",
        "}\n",
        "\n",
        "if \"modelo\" in carro:\n",
        "    print(\"A chave 'modelo' existe no dicionário.\")\n",
        "else:\n",
        "    print(\"A chave 'modelo' não existe no dicionário.\")\n"
      ]
    },
    {
      "cell_type": "markdown",
      "metadata": {
        "id": "Zpqnxu2ReBZH"
      },
      "source": [
        "15. Itere sobre as chaves do dicionário e imprima cada uma delas."
      ]
    },
    {
      "cell_type": "code",
      "execution_count": 9,
      "metadata": {
        "colab": {
          "base_uri": "https://localhost:8080/"
        },
        "id": "4juQCK0veA-g",
        "outputId": "a1394f13-7576-4963-b7da-303585bd1924"
      },
      "outputs": [
        {
          "name": "stdout",
          "output_type": "stream",
          "text": [
            "marca\n",
            "modelo\n",
            "ano\n",
            "cor\n"
          ]
        }
      ],
      "source": [
        "carro = {\n",
        "    \"marca\": \"Jeep\",\n",
        "    \"modelo\": \"Renegade\",\n",
        "    \"ano\": 2023,\n",
        "    \"cor\": \"preto\"\n",
        "}\n",
        "\n",
        "for chave in carro:\n",
        "    print(chave)\n"
      ]
    },
    {
      "cell_type": "markdown",
      "metadata": {
        "id": "GAoDb4pneG-j"
      },
      "source": [
        "15. Itere sobre as chaves do dicionário e imprima cada uma delas."
      ]
    },
    {
      "cell_type": "code",
      "execution_count": 13,
      "metadata": {
        "colab": {
          "base_uri": "https://localhost:8080/"
        },
        "id": "aqi8-PtUeGx5",
        "outputId": "a831c9de-2fa9-4b5e-87f4-556b469d4548"
      },
      "outputs": [
        {
          "name": "stdout",
          "output_type": "stream",
          "text": [
            "Jeep\n",
            "Renegade\n",
            "2023\n",
            "preto\n"
          ]
        }
      ],
      "source": [
        "carro = {\n",
        "    \"marca\": \"Jeep\",\n",
        "    \"modelo\": \"Renegade\",\n",
        "    \"ano\": 2023,\n",
        "    \"cor\": \"preto\"\n",
        "}\n",
        "\n",
        "for carros in carro.values():\n",
        "    print(carros)"
      ]
    },
    {
      "cell_type": "markdown",
      "metadata": {
        "id": "oxI3BVhteGhH"
      },
      "source": [
        "17. Crie uma função que receba uma lista e retorne a soma dos elementos."
      ]
    },
    {
      "cell_type": "code",
      "execution_count": 14,
      "metadata": {
        "colab": {
          "base_uri": "https://localhost:8080/"
        },
        "id": "Ijnkd3cJeMM_",
        "outputId": "742a58b2-22cf-4526-cc74-d80598873dca"
      },
      "outputs": [
        {
          "name": "stdout",
          "output_type": "stream",
          "text": [
            "15\n"
          ]
        }
      ],
      "source": [
        "def soma_elementos(lista):\n",
        "    return sum(lista)\n",
        "\n",
        "numeros = [1, 2, 3, 4, 5]\n",
        "resultado = soma_elementos(numeros)\n",
        "print(resultado)\n"
      ]
    },
    {
      "cell_type": "markdown",
      "metadata": {
        "id": "Abqc7zdfeNl7"
      },
      "source": [
        "18. Crie uma função que receba um dicionário e retorne todas as suas chaves.\n"
      ]
    },
    {
      "cell_type": "code",
      "execution_count": 16,
      "metadata": {
        "colab": {
          "base_uri": "https://localhost:8080/"
        },
        "id": "ZbHQ9bipeQc3",
        "outputId": "d84f09bb-c578-4117-ffb4-65973500e955"
      },
      "outputs": [
        {
          "name": "stdout",
          "output_type": "stream",
          "text": [
            "('marca', 'Jeep')\n",
            "('modelo', 'Renegade')\n",
            "('ano', 2023)\n",
            "('cor', 'preto')\n"
          ]
        }
      ],
      "source": [
        "def obter_chaves(dicionario):\n",
        "    return list(dicionario.keys())\n",
        "\n",
        "carro = {\n",
        "    \"marca\": \"Jeep\",\n",
        "    \"modelo\": \"Renegade\",\n",
        "    \"ano\": 2023,\n",
        "    \"cor\": \"preto\"\n",
        "}\n",
        "\n",
        "for carros in carro.items():\n",
        "    print(carros)\n"
      ]
    },
    {
      "cell_type": "markdown",
      "metadata": {
        "id": "wF_R9JlDeNip"
      },
      "source": [
        "\n",
        "19. Crie uma função que receba um dicionário e imprima chave e valor em linhas separadas."
      ]
    },
    {
      "cell_type": "code",
      "execution_count": 17,
      "metadata": {
        "colab": {
          "base_uri": "https://localhost:8080/"
        },
        "id": "ONvkXUDWeVX3",
        "outputId": "78954aba-5e58-4b06-83eb-4dfec0431d0f"
      },
      "outputs": [
        {
          "name": "stdout",
          "output_type": "stream",
          "text": [
            "Chave: marca\n",
            "Valor: Jeep\n",
            "\n",
            "Chave: modelo\n",
            "Valor: Renegade\n",
            "\n",
            "Chave: ano\n",
            "Valor: 2023\n",
            "\n",
            "Chave: cor\n",
            "Valor: preto\n",
            "\n"
          ]
        }
      ],
      "source": [
        "def imprimir_chaves_e_valores(dicionario):\n",
        "    for chave, valor in dicionario.items():\n",
        "        print(f\"Chave: {chave}\")\n",
        "        print(f\"Valor: {valor}\")\n",
        "        print()\n",
        "\n",
        "carro = {\n",
        "    \"marca\": \"Jeep\",\n",
        "    \"modelo\": \"Renegade\",\n",
        "    \"ano\": 2023,\n",
        "    \"cor\": \"preto\"\n",
        "}\n",
        "\n",
        "imprimir_chaves_e_valores(carro)\n"
      ]
    },
    {
      "cell_type": "markdown",
      "metadata": {
        "id": "5ZSYRpJ-eM4s"
      },
      "source": [
        "20. Crie uma classe chamada Pessoa com atributos nome e idade, e um método que imprima esses dados."
      ]
    },
    {
      "cell_type": "code",
      "execution_count": 18,
      "metadata": {
        "colab": {
          "base_uri": "https://localhost:8080/"
        },
        "id": "RNqpzQzdeYUG",
        "outputId": "ac1a3e7e-7294-41ee-b701-1f0da80b7344"
      },
      "outputs": [
        {
          "name": "stdout",
          "output_type": "stream",
          "text": [
            "Nome: Eduardo\n",
            "Idade: 25\n"
          ]
        }
      ],
      "source": [
        "class Pessoa:\n",
        "    def __init__(self, nome, idade):\n",
        "        self.nome = nome\n",
        "        self.idade = idade\n",
        "\n",
        "    def imprimir_dados(self):\n",
        "        print(f\"Nome: {self.nome}\")\n",
        "        print(f\"Idade: {self.idade}\")\n",
        "\n",
        "pessoa1 = Pessoa(\"Eduardo\", 25)\n",
        "pessoa1.imprimir_dados()\n"
      ]
    }
  ],
  "metadata": {
    "colab": {
      "provenance": []
    },
    "kernelspec": {
      "display_name": "Python 3",
      "name": "python3"
    },
    "language_info": {
      "codemirror_mode": {
        "name": "ipython",
        "version": 3
      },
      "file_extension": ".py",
      "mimetype": "text/x-python",
      "name": "python",
      "nbconvert_exporter": "python",
      "pygments_lexer": "ipython3",
      "version": "3.12.1"
    }
  },
  "nbformat": 4,
  "nbformat_minor": 0
}
