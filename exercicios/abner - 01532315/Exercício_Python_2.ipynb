{
  "nbformat": 4,
  "nbformat_minor": 0,
  "metadata": {
    "colab": {
      "provenance": []
    },
    "kernelspec": {
      "name": "python3",
      "display_name": "Python 3"
    },
    "language_info": {
      "name": "python"
    }
  },
  "cells": [
    {
      "cell_type": "code",
      "source": [
        "# Instalar PySpark via pip\n",
        "!pip install pyspark"
      ],
      "metadata": {
        "colab": {
          "base_uri": "https://localhost:8080/"
        },
        "id": "Cs5H5ytNTuLo",
        "outputId": "38fb0d85-fa63-499e-e91f-bce565ad9b89"
      },
      "execution_count": 3,
      "outputs": [
        {
          "output_type": "stream",
          "name": "stdout",
          "text": [
            "Requirement already satisfied: pyspark in /usr/local/lib/python3.10/dist-packages (3.5.3)\n",
            "Requirement already satisfied: py4j==0.10.9.7 in /usr/local/lib/python3.10/dist-packages (from pyspark) (0.10.9.7)\n"
          ]
        }
      ]
    },
    {
      "cell_type": "code",
      "execution_count": 2,
      "metadata": {
        "colab": {
          "base_uri": "https://localhost:8080/"
        },
        "id": "opJxWP_bTXfk",
        "outputId": "5a028a55-ccb7-44c4-948a-724e468f415f"
      },
      "outputs": [
        {
          "output_type": "stream",
          "name": "stdout",
          "text": [
            "Warning: Looks like you're using an outdated `kagglehub` version, please consider updating (latest version: 0.3.3)\n",
            "Downloading from https://www.kaggle.com/api/v1/datasets/download/satvshr/top-4-used-car-sales-datasets-combined?dataset_version_number=2...\n"
          ]
        },
        {
          "output_type": "stream",
          "name": "stderr",
          "text": [
            "100%|██████████| 446k/446k [00:00<00:00, 61.5MB/s]"
          ]
        },
        {
          "output_type": "stream",
          "name": "stdout",
          "text": [
            "Extracting files...\n",
            "Path to dataset files: /root/.cache/kagglehub/datasets/satvshr/top-4-used-car-sales-datasets-combined/versions/2\n"
          ]
        },
        {
          "output_type": "stream",
          "name": "stderr",
          "text": [
            "\n"
          ]
        },
        {
          "output_type": "stream",
          "name": "stdout",
          "text": [
            "Warning: Looks like you're using an outdated `kagglehub` version, please consider updating (latest version: 0.3.3)\n",
            "Downloading from https://www.kaggle.com/api/v1/datasets/download/octopusteam/imdb-top-rated-titles-movies-and-tv-series?dataset_version_number=13...\n"
          ]
        },
        {
          "output_type": "stream",
          "name": "stderr",
          "text": [
            "100%|██████████| 140k/140k [00:00<00:00, 43.5MB/s]"
          ]
        },
        {
          "output_type": "stream",
          "name": "stdout",
          "text": [
            "Extracting files...\n",
            "Path to dataset files: /root/.cache/kagglehub/datasets/octopusteam/imdb-top-rated-titles-movies-and-tv-series/versions/13\n"
          ]
        },
        {
          "output_type": "stream",
          "name": "stderr",
          "text": [
            "\n"
          ]
        }
      ],
      "source": [
        "import kagglehub\n",
        "\n",
        "# Download latest version\n",
        "path = kagglehub.dataset_download(\"satvshr/top-4-used-car-sales-datasets-combined\")\n",
        "\n",
        "print(\"Path to dataset files:\", path)\n",
        "\n",
        "path = kagglehub.dataset_download(\"octopusteam/imdb-top-rated-titles-movies-and-tv-series\")\n",
        "\n",
        "print(\"Path to dataset files:\", path)"
      ]
    },
    {
      "cell_type": "code",
      "source": [
        "# Iniciar uma Sessão Spark\n",
        "from pyspark.sql import SparkSession\n",
        "\n",
        "spark = SparkSession.builder \\\n",
        "    .appName(\"ExemploPySpark\") \\\n",
        "    .getOrCreate()"
      ],
      "metadata": {
        "id": "rIE5xZNMUM9s"
      },
      "execution_count": 29,
      "outputs": []
    },
    {
      "cell_type": "code",
      "source": [
        "import pandas as pd\n",
        "df_pandas = pd.read_csv(\"/root/.cache/kagglehub/datasets/satvshr/top-4-used-car-sales-datasets-combined/versions/2/output.csv\")"
      ],
      "metadata": {
        "id": "IYIPatXKUP7m"
      },
      "execution_count": 30,
      "outputs": []
    },
    {
      "cell_type": "code",
      "source": [
        "df_pandas.head(4)"
      ],
      "metadata": {
        "colab": {
          "base_uri": "https://localhost:8080/",
          "height": 175
        },
        "id": "aXAeFi8hVnCi",
        "outputId": "41b2404b-743a-44ab-e286-d70a102cfabb"
      },
      "execution_count": 14,
      "outputs": [
        {
          "output_type": "execute_result",
          "data": {
            "text/plain": [
              "      brand    model transmission  age    fuel  engine       km  owner  \\\n",
              "0  mahindra     thar       manual  4.0  diesel  2184.0  11003.0    1.0   \n",
              "1   hyundai    verna       manual  6.0  petrol  1591.0  66936.0    1.0   \n",
              "2      tata  harrier       manual  2.0  diesel  1956.0  27990.0    1.0   \n",
              "3     honda     city    automatic  1.0  petrol  1498.0   5061.0    1.0   \n",
              "\n",
              "       price location  mileage  power  seats type  \n",
              "0  1231000.0      NaN      NaN    NaN    NaN  NaN  \n",
              "1   786000.0      NaN      NaN    NaN    NaN  NaN  \n",
              "2  1489000.0      NaN      NaN    NaN    NaN  NaN  \n",
              "3  1227000.0      NaN      NaN    NaN    NaN  NaN  "
            ],
            "text/html": [
              "\n",
              "  <div id=\"df-84cb7ceb-179b-4d94-8104-c198a4122781\" class=\"colab-df-container\">\n",
              "    <div>\n",
              "<style scoped>\n",
              "    .dataframe tbody tr th:only-of-type {\n",
              "        vertical-align: middle;\n",
              "    }\n",
              "\n",
              "    .dataframe tbody tr th {\n",
              "        vertical-align: top;\n",
              "    }\n",
              "\n",
              "    .dataframe thead th {\n",
              "        text-align: right;\n",
              "    }\n",
              "</style>\n",
              "<table border=\"1\" class=\"dataframe\">\n",
              "  <thead>\n",
              "    <tr style=\"text-align: right;\">\n",
              "      <th></th>\n",
              "      <th>brand</th>\n",
              "      <th>model</th>\n",
              "      <th>transmission</th>\n",
              "      <th>age</th>\n",
              "      <th>fuel</th>\n",
              "      <th>engine</th>\n",
              "      <th>km</th>\n",
              "      <th>owner</th>\n",
              "      <th>price</th>\n",
              "      <th>location</th>\n",
              "      <th>mileage</th>\n",
              "      <th>power</th>\n",
              "      <th>seats</th>\n",
              "      <th>type</th>\n",
              "    </tr>\n",
              "  </thead>\n",
              "  <tbody>\n",
              "    <tr>\n",
              "      <th>0</th>\n",
              "      <td>mahindra</td>\n",
              "      <td>thar</td>\n",
              "      <td>manual</td>\n",
              "      <td>4.0</td>\n",
              "      <td>diesel</td>\n",
              "      <td>2184.0</td>\n",
              "      <td>11003.0</td>\n",
              "      <td>1.0</td>\n",
              "      <td>1231000.0</td>\n",
              "      <td>NaN</td>\n",
              "      <td>NaN</td>\n",
              "      <td>NaN</td>\n",
              "      <td>NaN</td>\n",
              "      <td>NaN</td>\n",
              "    </tr>\n",
              "    <tr>\n",
              "      <th>1</th>\n",
              "      <td>hyundai</td>\n",
              "      <td>verna</td>\n",
              "      <td>manual</td>\n",
              "      <td>6.0</td>\n",
              "      <td>petrol</td>\n",
              "      <td>1591.0</td>\n",
              "      <td>66936.0</td>\n",
              "      <td>1.0</td>\n",
              "      <td>786000.0</td>\n",
              "      <td>NaN</td>\n",
              "      <td>NaN</td>\n",
              "      <td>NaN</td>\n",
              "      <td>NaN</td>\n",
              "      <td>NaN</td>\n",
              "    </tr>\n",
              "    <tr>\n",
              "      <th>2</th>\n",
              "      <td>tata</td>\n",
              "      <td>harrier</td>\n",
              "      <td>manual</td>\n",
              "      <td>2.0</td>\n",
              "      <td>diesel</td>\n",
              "      <td>1956.0</td>\n",
              "      <td>27990.0</td>\n",
              "      <td>1.0</td>\n",
              "      <td>1489000.0</td>\n",
              "      <td>NaN</td>\n",
              "      <td>NaN</td>\n",
              "      <td>NaN</td>\n",
              "      <td>NaN</td>\n",
              "      <td>NaN</td>\n",
              "    </tr>\n",
              "    <tr>\n",
              "      <th>3</th>\n",
              "      <td>honda</td>\n",
              "      <td>city</td>\n",
              "      <td>automatic</td>\n",
              "      <td>1.0</td>\n",
              "      <td>petrol</td>\n",
              "      <td>1498.0</td>\n",
              "      <td>5061.0</td>\n",
              "      <td>1.0</td>\n",
              "      <td>1227000.0</td>\n",
              "      <td>NaN</td>\n",
              "      <td>NaN</td>\n",
              "      <td>NaN</td>\n",
              "      <td>NaN</td>\n",
              "      <td>NaN</td>\n",
              "    </tr>\n",
              "  </tbody>\n",
              "</table>\n",
              "</div>\n",
              "    <div class=\"colab-df-buttons\">\n",
              "\n",
              "  <div class=\"colab-df-container\">\n",
              "    <button class=\"colab-df-convert\" onclick=\"convertToInteractive('df-84cb7ceb-179b-4d94-8104-c198a4122781')\"\n",
              "            title=\"Convert this dataframe to an interactive table.\"\n",
              "            style=\"display:none;\">\n",
              "\n",
              "  <svg xmlns=\"http://www.w3.org/2000/svg\" height=\"24px\" viewBox=\"0 -960 960 960\">\n",
              "    <path d=\"M120-120v-720h720v720H120Zm60-500h600v-160H180v160Zm220 220h160v-160H400v160Zm0 220h160v-160H400v160ZM180-400h160v-160H180v160Zm440 0h160v-160H620v160ZM180-180h160v-160H180v160Zm440 0h160v-160H620v160Z\"/>\n",
              "  </svg>\n",
              "    </button>\n",
              "\n",
              "  <style>\n",
              "    .colab-df-container {\n",
              "      display:flex;\n",
              "      gap: 12px;\n",
              "    }\n",
              "\n",
              "    .colab-df-convert {\n",
              "      background-color: #E8F0FE;\n",
              "      border: none;\n",
              "      border-radius: 50%;\n",
              "      cursor: pointer;\n",
              "      display: none;\n",
              "      fill: #1967D2;\n",
              "      height: 32px;\n",
              "      padding: 0 0 0 0;\n",
              "      width: 32px;\n",
              "    }\n",
              "\n",
              "    .colab-df-convert:hover {\n",
              "      background-color: #E2EBFA;\n",
              "      box-shadow: 0px 1px 2px rgba(60, 64, 67, 0.3), 0px 1px 3px 1px rgba(60, 64, 67, 0.15);\n",
              "      fill: #174EA6;\n",
              "    }\n",
              "\n",
              "    .colab-df-buttons div {\n",
              "      margin-bottom: 4px;\n",
              "    }\n",
              "\n",
              "    [theme=dark] .colab-df-convert {\n",
              "      background-color: #3B4455;\n",
              "      fill: #D2E3FC;\n",
              "    }\n",
              "\n",
              "    [theme=dark] .colab-df-convert:hover {\n",
              "      background-color: #434B5C;\n",
              "      box-shadow: 0px 1px 3px 1px rgba(0, 0, 0, 0.15);\n",
              "      filter: drop-shadow(0px 1px 2px rgba(0, 0, 0, 0.3));\n",
              "      fill: #FFFFFF;\n",
              "    }\n",
              "  </style>\n",
              "\n",
              "    <script>\n",
              "      const buttonEl =\n",
              "        document.querySelector('#df-84cb7ceb-179b-4d94-8104-c198a4122781 button.colab-df-convert');\n",
              "      buttonEl.style.display =\n",
              "        google.colab.kernel.accessAllowed ? 'block' : 'none';\n",
              "\n",
              "      async function convertToInteractive(key) {\n",
              "        const element = document.querySelector('#df-84cb7ceb-179b-4d94-8104-c198a4122781');\n",
              "        const dataTable =\n",
              "          await google.colab.kernel.invokeFunction('convertToInteractive',\n",
              "                                                    [key], {});\n",
              "        if (!dataTable) return;\n",
              "\n",
              "        const docLinkHtml = 'Like what you see? Visit the ' +\n",
              "          '<a target=\"_blank\" href=https://colab.research.google.com/notebooks/data_table.ipynb>data table notebook</a>'\n",
              "          + ' to learn more about interactive tables.';\n",
              "        element.innerHTML = '';\n",
              "        dataTable['output_type'] = 'display_data';\n",
              "        await google.colab.output.renderOutput(dataTable, element);\n",
              "        const docLink = document.createElement('div');\n",
              "        docLink.innerHTML = docLinkHtml;\n",
              "        element.appendChild(docLink);\n",
              "      }\n",
              "    </script>\n",
              "  </div>\n",
              "\n",
              "\n",
              "<div id=\"df-e0bd8f36-e249-468f-983c-5148b7486f7b\">\n",
              "  <button class=\"colab-df-quickchart\" onclick=\"quickchart('df-e0bd8f36-e249-468f-983c-5148b7486f7b')\"\n",
              "            title=\"Suggest charts\"\n",
              "            style=\"display:none;\">\n",
              "\n",
              "<svg xmlns=\"http://www.w3.org/2000/svg\" height=\"24px\"viewBox=\"0 0 24 24\"\n",
              "     width=\"24px\">\n",
              "    <g>\n",
              "        <path d=\"M19 3H5c-1.1 0-2 .9-2 2v14c0 1.1.9 2 2 2h14c1.1 0 2-.9 2-2V5c0-1.1-.9-2-2-2zM9 17H7v-7h2v7zm4 0h-2V7h2v10zm4 0h-2v-4h2v4z\"/>\n",
              "    </g>\n",
              "</svg>\n",
              "  </button>\n",
              "\n",
              "<style>\n",
              "  .colab-df-quickchart {\n",
              "      --bg-color: #E8F0FE;\n",
              "      --fill-color: #1967D2;\n",
              "      --hover-bg-color: #E2EBFA;\n",
              "      --hover-fill-color: #174EA6;\n",
              "      --disabled-fill-color: #AAA;\n",
              "      --disabled-bg-color: #DDD;\n",
              "  }\n",
              "\n",
              "  [theme=dark] .colab-df-quickchart {\n",
              "      --bg-color: #3B4455;\n",
              "      --fill-color: #D2E3FC;\n",
              "      --hover-bg-color: #434B5C;\n",
              "      --hover-fill-color: #FFFFFF;\n",
              "      --disabled-bg-color: #3B4455;\n",
              "      --disabled-fill-color: #666;\n",
              "  }\n",
              "\n",
              "  .colab-df-quickchart {\n",
              "    background-color: var(--bg-color);\n",
              "    border: none;\n",
              "    border-radius: 50%;\n",
              "    cursor: pointer;\n",
              "    display: none;\n",
              "    fill: var(--fill-color);\n",
              "    height: 32px;\n",
              "    padding: 0;\n",
              "    width: 32px;\n",
              "  }\n",
              "\n",
              "  .colab-df-quickchart:hover {\n",
              "    background-color: var(--hover-bg-color);\n",
              "    box-shadow: 0 1px 2px rgba(60, 64, 67, 0.3), 0 1px 3px 1px rgba(60, 64, 67, 0.15);\n",
              "    fill: var(--button-hover-fill-color);\n",
              "  }\n",
              "\n",
              "  .colab-df-quickchart-complete:disabled,\n",
              "  .colab-df-quickchart-complete:disabled:hover {\n",
              "    background-color: var(--disabled-bg-color);\n",
              "    fill: var(--disabled-fill-color);\n",
              "    box-shadow: none;\n",
              "  }\n",
              "\n",
              "  .colab-df-spinner {\n",
              "    border: 2px solid var(--fill-color);\n",
              "    border-color: transparent;\n",
              "    border-bottom-color: var(--fill-color);\n",
              "    animation:\n",
              "      spin 1s steps(1) infinite;\n",
              "  }\n",
              "\n",
              "  @keyframes spin {\n",
              "    0% {\n",
              "      border-color: transparent;\n",
              "      border-bottom-color: var(--fill-color);\n",
              "      border-left-color: var(--fill-color);\n",
              "    }\n",
              "    20% {\n",
              "      border-color: transparent;\n",
              "      border-left-color: var(--fill-color);\n",
              "      border-top-color: var(--fill-color);\n",
              "    }\n",
              "    30% {\n",
              "      border-color: transparent;\n",
              "      border-left-color: var(--fill-color);\n",
              "      border-top-color: var(--fill-color);\n",
              "      border-right-color: var(--fill-color);\n",
              "    }\n",
              "    40% {\n",
              "      border-color: transparent;\n",
              "      border-right-color: var(--fill-color);\n",
              "      border-top-color: var(--fill-color);\n",
              "    }\n",
              "    60% {\n",
              "      border-color: transparent;\n",
              "      border-right-color: var(--fill-color);\n",
              "    }\n",
              "    80% {\n",
              "      border-color: transparent;\n",
              "      border-right-color: var(--fill-color);\n",
              "      border-bottom-color: var(--fill-color);\n",
              "    }\n",
              "    90% {\n",
              "      border-color: transparent;\n",
              "      border-bottom-color: var(--fill-color);\n",
              "    }\n",
              "  }\n",
              "</style>\n",
              "\n",
              "  <script>\n",
              "    async function quickchart(key) {\n",
              "      const quickchartButtonEl =\n",
              "        document.querySelector('#' + key + ' button');\n",
              "      quickchartButtonEl.disabled = true;  // To prevent multiple clicks.\n",
              "      quickchartButtonEl.classList.add('colab-df-spinner');\n",
              "      try {\n",
              "        const charts = await google.colab.kernel.invokeFunction(\n",
              "            'suggestCharts', [key], {});\n",
              "      } catch (error) {\n",
              "        console.error('Error during call to suggestCharts:', error);\n",
              "      }\n",
              "      quickchartButtonEl.classList.remove('colab-df-spinner');\n",
              "      quickchartButtonEl.classList.add('colab-df-quickchart-complete');\n",
              "    }\n",
              "    (() => {\n",
              "      let quickchartButtonEl =\n",
              "        document.querySelector('#df-e0bd8f36-e249-468f-983c-5148b7486f7b button');\n",
              "      quickchartButtonEl.style.display =\n",
              "        google.colab.kernel.accessAllowed ? 'block' : 'none';\n",
              "    })();\n",
              "  </script>\n",
              "</div>\n",
              "\n",
              "    </div>\n",
              "  </div>\n"
            ],
            "application/vnd.google.colaboratory.intrinsic+json": {
              "type": "dataframe",
              "variable_name": "df_pandas",
              "summary": "{\n  \"name\": \"df_pandas\",\n  \"rows\": 32200,\n  \"fields\": [\n    {\n      \"column\": \"brand\",\n      \"properties\": {\n        \"dtype\": \"category\",\n        \"num_unique_values\": 35,\n        \"samples\": [\n          \"smart\",\n          \"datsun\",\n          \"mini\"\n        ],\n        \"semantic_type\": \"\",\n        \"description\": \"\"\n      }\n    },\n    {\n      \"column\": \"model\",\n      \"properties\": {\n        \"dtype\": \"category\",\n        \"num_unique_values\": 301,\n        \"samples\": [\n          \"koleos\",\n          \"wagon r stingray\",\n          \"sl-class\"\n        ],\n        \"semantic_type\": \"\",\n        \"description\": \"\"\n      }\n    },\n    {\n      \"column\": \"transmission\",\n      \"properties\": {\n        \"dtype\": \"category\",\n        \"num_unique_values\": 2,\n        \"samples\": [\n          \"automatic\",\n          \"manual\"\n        ],\n        \"semantic_type\": \"\",\n        \"description\": \"\"\n      }\n    },\n    {\n      \"column\": \"age\",\n      \"properties\": {\n        \"dtype\": \"number\",\n        \"std\": 3.4855771665500916,\n        \"min\": 0.0,\n        \"max\": 29.0,\n        \"num_unique_values\": 28,\n        \"samples\": [\n          12.0,\n          23.0\n        ],\n        \"semantic_type\": \"\",\n        \"description\": \"\"\n      }\n    },\n    {\n      \"column\": \"fuel\",\n      \"properties\": {\n        \"dtype\": \"category\",\n        \"num_unique_values\": 5,\n        \"samples\": [\n          \"petrol\",\n          \"lpg\"\n        ],\n        \"semantic_type\": \"\",\n        \"description\": \"\"\n      }\n    },\n    {\n      \"column\": \"engine\",\n      \"properties\": {\n        \"dtype\": \"number\",\n        \"std\": 520.9168715765912,\n        \"min\": 72.0,\n        \"max\": 5998.0,\n        \"num_unique_values\": 156,\n        \"samples\": [\n          2835.0,\n          2894.0\n        ],\n        \"semantic_type\": \"\",\n        \"description\": \"\"\n      }\n    },\n    {\n      \"column\": \"km\",\n      \"properties\": {\n        \"dtype\": \"number\",\n        \"std\": 55771.453615453,\n        \"min\": 0.0,\n        \"max\": 6500000.0,\n        \"num_unique_values\": 15977,\n        \"samples\": [\n          108870.0,\n          92801.0\n        ],\n        \"semantic_type\": \"\",\n        \"description\": \"\"\n      }\n    },\n    {\n      \"column\": \"owner\",\n      \"properties\": {\n        \"dtype\": \"number\",\n        \"std\": 0.49046345883480524,\n        \"min\": 1.0,\n        \"max\": 4.0,\n        \"num_unique_values\": 4,\n        \"samples\": [\n          2.0,\n          4.0\n        ],\n        \"semantic_type\": \"\",\n        \"description\": \"\"\n      }\n    },\n    {\n      \"column\": \"price\",\n      \"properties\": {\n        \"dtype\": \"number\",\n        \"std\": 703770.177961995,\n        \"min\": 40000.0,\n        \"max\": 7066000.0,\n        \"num_unique_values\": 2286,\n        \"samples\": [\n          886999.9999999999,\n          249000.00000000003\n        ],\n        \"semantic_type\": \"\",\n        \"description\": \"\"\n      }\n    },\n    {\n      \"column\": \"location\",\n      \"properties\": {\n        \"dtype\": \"category\",\n        \"num_unique_values\": 26,\n        \"samples\": [\n          \"delhi\",\n          \"uttar pradesh\"\n        ],\n        \"semantic_type\": \"\",\n        \"description\": \"\"\n      }\n    },\n    {\n      \"column\": \"mileage\",\n      \"properties\": {\n        \"dtype\": \"number\",\n        \"std\": 4.418605259803849,\n        \"min\": 0.0,\n        \"max\": 46.6206,\n        \"num_unique_values\": 536,\n        \"samples\": [\n          16.6,\n          15.73\n        ],\n        \"semantic_type\": \"\",\n        \"description\": \"\"\n      }\n    },\n    {\n      \"column\": \"power\",\n      \"properties\": {\n        \"dtype\": \"number\",\n        \"std\": 45.00226016434334,\n        \"min\": 34.2,\n        \"max\": 600.0,\n        \"num_unique_values\": 456,\n        \"samples\": [\n          335.25,\n          112.2\n        ],\n        \"semantic_type\": \"\",\n        \"description\": \"\"\n      }\n    },\n    {\n      \"column\": \"seats\",\n      \"properties\": {\n        \"dtype\": \"number\",\n        \"std\": 0.7076391408164407,\n        \"min\": 0.0,\n        \"max\": 10.0,\n        \"num_unique_values\": 9,\n        \"samples\": [\n          9.0,\n          7.0\n        ],\n        \"semantic_type\": \"\",\n        \"description\": \"\"\n      }\n    },\n    {\n      \"column\": \"type\",\n      \"properties\": {\n        \"dtype\": \"category\",\n        \"num_unique_values\": 5,\n        \"samples\": [\n          \"sedan\",\n          \"lux_sedan\"\n        ],\n        \"semantic_type\": \"\",\n        \"description\": \"\"\n      }\n    }\n  ]\n}"
            }
          },
          "metadata": {},
          "execution_count": 14
        }
      ]
    },
    {
      "cell_type": "code",
      "source": [
        "from pyspark.sql import SparkSession\n",
        "\n",
        "spark = SparkSession.builder.appName(\"ExemploLeitura\").getOrCreate()\n",
        "\n",
        "# Leitura de um arquivo CSV\n",
        "df_pyspark = spark.read.csv(\"/root/.cache/kagglehub/datasets/satvshr/top-4-used-car-sales-datasets-combined/versions/2/output.csv\", header=True, inferSchema=True)"
      ],
      "metadata": {
        "id": "6f2MQp34Vu_R"
      },
      "execution_count": 15,
      "outputs": []
    },
    {
      "cell_type": "code",
      "source": [
        "#Nomes das colunas\n",
        "for i in df_pandas.columns:\n",
        "  print(i)"
      ],
      "metadata": {
        "colab": {
          "base_uri": "https://localhost:8080/"
        },
        "id": "MuzxCudSV2BD",
        "outputId": "eb1bc3b2-88ad-4f99-d345-ecea32fee97d"
      },
      "execution_count": 31,
      "outputs": [
        {
          "output_type": "stream",
          "name": "stdout",
          "text": [
            "brand\n",
            "model\n",
            "transmission\n",
            "age\n",
            "fuel\n",
            "engine\n",
            "km\n",
            "owner\n",
            "price\n",
            "location\n",
            "mileage\n",
            "power\n",
            "seats\n",
            "type\n"
          ]
        }
      ]
    },
    {
      "cell_type": "code",
      "source": [
        "# Seleciona colunas específicas - Pandas\n",
        "df_selecionado_pandas = df_pandas[['brand', 'model','transmission']]"
      ],
      "metadata": {
        "id": "ligstGBxV5F4"
      },
      "execution_count": 17,
      "outputs": []
    },
    {
      "cell_type": "code",
      "source": [
        "# Seleciona colunas específicas - PySpark\n",
        "df_selecionado_spark = df_pyspark.select('brand', 'model','transmission')"
      ],
      "metadata": {
        "id": "NX7jS3C9WAHk"
      },
      "execution_count": 18,
      "outputs": []
    },
    {
      "cell_type": "code",
      "source": [
        "# Filtra linhas onde coluna1 > 50 - Pandas\n",
        "df_filtrado_pandas = df_pandas[df_pandas['price'] > 2]"
      ],
      "metadata": {
        "id": "_FdFfPbSWE4H"
      },
      "execution_count": 19,
      "outputs": []
    },
    {
      "cell_type": "code",
      "source": [
        "# Filtra linhas onde coluna1 > 50 - PySpark\n",
        "df_filtrado_spark = df_pyspark.filter(df_pyspark.price > 2)"
      ],
      "metadata": {
        "id": "RXV4NdodWOni"
      },
      "execution_count": 20,
      "outputs": []
    },
    {
      "cell_type": "code",
      "source": [
        "# Calcula a média de coluna1 agrupada por coluna2 - Pandas\n",
        "df_agregado_pandas = df_pandas.groupby('age')['km'].mean().reset_index()"
      ],
      "metadata": {
        "id": "gTZ4R6kFWUFH"
      },
      "execution_count": 23,
      "outputs": []
    },
    {
      "cell_type": "code",
      "source": [
        "# Calcula a média de coluna1 agrupada por coluna2 - PySpark\n",
        "from pyspark.sql.functions import avg\n",
        "\n",
        "# Calcula a média de coluna1 agrupada por coluna2\n",
        "df_agregado_spark = df_pyspark.groupBy(\"age\").agg(avg(\"km\").alias(\"media_age_km\"))"
      ],
      "metadata": {
        "id": "W8DjLOJ_Wjy-"
      },
      "execution_count": 24,
      "outputs": []
    },
    {
      "cell_type": "code",
      "source": [
        "df_selecionado_spark.show(5)\n",
        "df_filtrado_spark.show(5)\n",
        "df_agregado_spark.show(5)"
      ],
      "metadata": {
        "colab": {
          "base_uri": "https://localhost:8080/"
        },
        "id": "m2KdkWrIWrCY",
        "outputId": "336ca312-fdff-4bf9-a9c5-325c61476fda"
      },
      "execution_count": 25,
      "outputs": [
        {
          "output_type": "stream",
          "name": "stdout",
          "text": [
            "+--------+--------+------------+\n",
            "|   brand|   model|transmission|\n",
            "+--------+--------+------------+\n",
            "|mahindra|    thar|      manual|\n",
            "| hyundai|   verna|      manual|\n",
            "|    tata| harrier|      manual|\n",
            "|   honda|    city|   automatic|\n",
            "|    ford|ecosport|      manual|\n",
            "+--------+--------+------------+\n",
            "only showing top 5 rows\n",
            "\n",
            "+--------+--------+------------+---+------+------+-------+-----+---------+--------+-------+-----+-----+----+\n",
            "|   brand|   model|transmission|age|  fuel|engine|     km|owner|    price|location|mileage|power|seats|type|\n",
            "+--------+--------+------------+---+------+------+-------+-----+---------+--------+-------+-----+-----+----+\n",
            "|mahindra|    thar|      manual|4.0|diesel|2184.0|11003.0|  1.0|1231000.0|    NULL|   NULL| NULL| NULL|NULL|\n",
            "| hyundai|   verna|      manual|6.0|petrol|1591.0|66936.0|  1.0| 786000.0|    NULL|   NULL| NULL| NULL|NULL|\n",
            "|    tata| harrier|      manual|2.0|diesel|1956.0|27990.0|  1.0|1489000.0|    NULL|   NULL| NULL| NULL|NULL|\n",
            "|   honda|    city|   automatic|1.0|petrol|1498.0| 5061.0|  1.0|1227000.0|    NULL|   NULL| NULL| NULL|NULL|\n",
            "|    ford|ecosport|      manual|3.0|diesel|1498.0|23480.0|  1.0| 887000.0|    NULL|   NULL| NULL| NULL|NULL|\n",
            "+--------+--------+------------+---+------+------+-------+-----+---------+--------+-------+-----+-----+----+\n",
            "only showing top 5 rows\n",
            "\n",
            "+----+------------------+\n",
            "| age|      media_age_km|\n",
            "+----+------------------+\n",
            "| 8.0|61032.198736176935|\n",
            "| 0.0|            8659.5|\n",
            "| 7.0| 59134.80208921513|\n",
            "|29.0|           22612.0|\n",
            "|NULL|           13794.0|\n",
            "+----+------------------+\n",
            "only showing top 5 rows\n",
            "\n"
          ]
        }
      ]
    },
    {
      "cell_type": "code",
      "source": [
        "# Junção de dois DataFrames pandas\n",
        "\n",
        "df1 = pd.read_csv(\"/root/.cache/kagglehub/datasets/satvshr/top-4-used-car-sales-datasets-combined/versions/2/output.csv\")\n",
        "df2 = pd.read_csv(\"/root/.cache/kagglehub/datasets/octopusteam/imdb-top-rated-titles-movies-and-tv-series/versions/13/data.csv\")\n",
        "\n",
        "df_concat_horizontal = pd.concat([df1, df2], axis=1)"
      ],
      "metadata": {
        "id": "7n-HQa9eW4iv"
      },
      "execution_count": 35,
      "outputs": []
    },
    {
      "cell_type": "code",
      "source": [
        "# Junção de dois DataFrames PySpark\n",
        "df1 = spark.read.csv(\"/root/.cache/kagglehub/datasets/satvshr/top-4-used-car-sales-datasets-combined/versions/2/output.csv\", header=True, inferSchema=True)\n",
        "df2 = spark.read.csv(\"/root/.cache/kagglehub/datasets/octopusteam/imdb-top-rated-titles-movies-and-tv-series/versions/13/data.csv\", header=True, inferSchema=True)\n",
        "\n",
        "df_juncao = df1.join(df2, on=\"type\", how=\"left\")\n",
        "\n",
        "df_juncao.show()"
      ],
      "metadata": {
        "colab": {
          "base_uri": "https://localhost:8080/"
        },
        "id": "cJR1EPgfW8MH",
        "outputId": "f0361f8b-a7ee-4b6a-e4b8-41b3f4c656ee"
      },
      "execution_count": 36,
      "outputs": [
        {
          "output_type": "stream",
          "name": "stdout",
          "text": [
            "+----+--------+--------+------------+----+------+------+-------+-----+---------+--------+-------+-----+-----+----+-----+------+-------------+--------+-----------+\n",
            "|type|   brand|   model|transmission| age|  fuel|engine|     km|owner|    price|location|mileage|power|seats|  id|title|genres|averageRating|numVotes|releaseYear|\n",
            "+----+--------+--------+------------+----+------+------+-------+-----+---------+--------+-------+-----+-----+----+-----+------+-------------+--------+-----------+\n",
            "|NULL|mahindra|    thar|      manual| 4.0|diesel|2184.0|11003.0|  1.0|1231000.0|    NULL|   NULL| NULL| NULL|NULL| NULL|  NULL|         NULL|    NULL|       NULL|\n",
            "|NULL| hyundai|   verna|      manual| 6.0|petrol|1591.0|66936.0|  1.0| 786000.0|    NULL|   NULL| NULL| NULL|NULL| NULL|  NULL|         NULL|    NULL|       NULL|\n",
            "|NULL|    tata| harrier|      manual| 2.0|diesel|1956.0|27990.0|  1.0|1489000.0|    NULL|   NULL| NULL| NULL|NULL| NULL|  NULL|         NULL|    NULL|       NULL|\n",
            "|NULL|   honda|    city|   automatic| 1.0|petrol|1498.0| 5061.0|  1.0|1227000.0|    NULL|   NULL| NULL| NULL|NULL| NULL|  NULL|         NULL|    NULL|       NULL|\n",
            "|NULL|    ford|ecosport|      manual| 3.0|diesel|1498.0|23480.0|  1.0| 887000.0|    NULL|   NULL| NULL| NULL|NULL| NULL|  NULL|         NULL|    NULL|       NULL|\n",
            "|NULL|   honda|    wr-v|      manual| 3.0|petrol|1199.0|44787.0|  1.0| 796000.0|    NULL|   NULL| NULL| NULL|NULL| NULL|  NULL|         NULL|    NULL|       NULL|\n",
            "|NULL|    tata|   punch|      manual| 2.0|petrol|1199.0|  450.0|  1.0| 813000.0|    NULL|   NULL| NULL| NULL|NULL| NULL|  NULL|         NULL|    NULL|       NULL|\n",
            "|NULL|    tata|   nexon|   automatic| 4.0|diesel|  NULL|59866.0|  1.0| 728000.0|    NULL|   NULL| NULL| NULL|NULL| NULL|  NULL|         NULL|    NULL|       NULL|\n",
            "|NULL|mahindra|  xuv700|   automatic| 2.0|diesel|2184.0|62567.0|  1.0|2322000.0|    NULL|   NULL| NULL| NULL|NULL| NULL|  NULL|         NULL|    NULL|       NULL|\n",
            "|NULL|    ford|ecosport|   automatic| 5.0|petrol|1497.0|58503.0|  1.0| 766000.0|    NULL|   NULL| NULL| NULL|NULL| NULL|  NULL|         NULL|    NULL|       NULL|\n",
            "|NULL|  maruti|   dzire|      manual| 6.0|petrol|1197.0|58159.0|  1.0| 471000.0|    NULL|   NULL| NULL| NULL|NULL| NULL|  NULL|         NULL|    NULL|       NULL|\n",
            "|NULL| hyundai|   grand|      manual| 1.0|petrol|1197.0|15568.0|  1.0| 689000.0|    NULL|   NULL| NULL| NULL|NULL| NULL|  NULL|         NULL|    NULL|       NULL|\n",
            "|NULL|    tata|   tiago|      manual| 1.0|petrol|1199.0| 6676.0|  1.0| 536000.0|    NULL|   NULL| NULL| NULL|NULL| NULL|  NULL|         NULL|    NULL|       NULL|\n",
            "|NULL| hyundai|   creta|      manual| 6.0|petrol|  NULL|59085.0|  1.0| 823000.0|    NULL|   NULL| NULL| NULL|NULL| NULL|  NULL|         NULL|    NULL|       NULL|\n",
            "|NULL|  maruti|    alto|      manual| 6.0|petrol| 998.0|52966.0|  1.0| 310000.0|    NULL|   NULL| NULL| NULL|NULL| NULL|  NULL|         NULL|    NULL|       NULL|\n",
            "|NULL| hyundai|   verna|      manual| 4.0|diesel|1582.0|60592.0|  1.0| 993000.0|    NULL|   NULL| NULL| NULL|NULL| NULL|  NULL|         NULL|    NULL|       NULL|\n",
            "|NULL|  maruti|    alto|   automatic|10.0|petrol| 998.0|71297.0|  1.0| 265000.0|    NULL|   NULL| NULL| NULL|NULL| NULL|  NULL|         NULL|    NULL|       NULL|\n",
            "|NULL|   honda|   amaze|      manual| 2.0|petrol|1199.0|15935.0|  1.0| 699000.0|    NULL|   NULL| NULL| NULL|NULL| NULL|  NULL|         NULL|    NULL|       NULL|\n",
            "|NULL|     kia|  seltos|      manual| 3.0|diesel|1493.0|71040.0|  1.0| 980000.0|    NULL|   NULL| NULL| NULL|NULL| NULL|  NULL|         NULL|    NULL|       NULL|\n",
            "|NULL| hyundai|   grand|      manual| 1.0|petrol|1197.0| 2850.0|  1.0| 710000.0|    NULL|   NULL| NULL| NULL|NULL| NULL|  NULL|         NULL|    NULL|       NULL|\n",
            "+----+--------+--------+------------+----+------+------+-------+-----+---------+--------+-------+-----+-----+----+-----+------+-------------+--------+-----------+\n",
            "only showing top 20 rows\n",
            "\n"
          ]
        }
      ]
    }
  ]
}