{
  "nbformat": 4,
  "nbformat_minor": 0,
  "metadata": {
    "colab": {
      "provenance": []
    },
    "kernelspec": {
      "name": "python3",
      "display_name": "Python 3"
    },
    "language_info": {
      "name": "python"
    }
  },
  "cells": [
    {
      "cell_type": "markdown",
      "source": [
        "**Exercício 1 - Aquecimento de Python para Ciência de Dados**"
      ],
      "metadata": {
        "id": "f6oYv9LEcR8T"
      }
    },
    {
      "cell_type": "markdown",
      "source": [
        "1. Imprima \"Hello, World!\" no console."
      ],
      "metadata": {
        "id": "v4GVV_w1cYEY"
      }
    },
    {
      "cell_type": "code",
      "execution_count": 1,
      "metadata": {
        "id": "dJ12k9hPcNAg",
        "colab": {
          "base_uri": "https://localhost:8080/"
        },
        "outputId": "8b384f7e-3b8d-4872-e88e-8f3db4ebf113"
      },
      "outputs": [
        {
          "output_type": "stream",
          "name": "stdout",
          "text": [
            "Hello, World!\n"
          ]
        }
      ],
      "source": [
        "print(\"Hello, World!\")"
      ]
    },
    {
      "cell_type": "markdown",
      "source": [
        "2. Crie uma variável x com valor 10 e imprima seu valor."
      ],
      "metadata": {
        "id": "ADK7MX25ciYu"
      }
    },
    {
      "cell_type": "code",
      "source": [
        "x = 10\n",
        "print(x)"
      ],
      "metadata": {
        "id": "kk5h1v7ocqel",
        "colab": {
          "base_uri": "https://localhost:8080/"
        },
        "outputId": "41771e48-ddc6-491c-bb1f-9b3de22182df"
      },
      "execution_count": 3,
      "outputs": [
        {
          "output_type": "stream",
          "name": "stdout",
          "text": [
            "10\n"
          ]
        }
      ]
    },
    {
      "cell_type": "markdown",
      "source": [
        "3. Some dois números e exiba o resultado."
      ],
      "metadata": {
        "id": "bKry1Lukcq6l"
      }
    },
    {
      "cell_type": "code",
      "source": [
        "a = 5\n",
        "b = 7\n",
        "resultado = a + b\n",
        "print(resultado)"
      ],
      "metadata": {
        "id": "S6IyQT4Lc2vf",
        "colab": {
          "base_uri": "https://localhost:8080/"
        },
        "outputId": "6f30ff3e-f041-41e5-f887-eae93424f09e"
      },
      "execution_count": 4,
      "outputs": [
        {
          "output_type": "stream",
          "name": "stdout",
          "text": [
            "12\n"
          ]
        }
      ]
    },
    {
      "cell_type": "markdown",
      "source": [
        "4. Verifique se um número é par ou ímpar.\n"
      ],
      "metadata": {
        "id": "6BG1PN9Qc3VA"
      }
    },
    {
      "cell_type": "code",
      "source": [
        "numero = 10\n",
        "\n",
        "if numero % 2 == 0:\n",
        "    print(f\"{numero} é par\")\n",
        "else:\n",
        "    print(f\"{numero} é ímpar\")"
      ],
      "metadata": {
        "id": "K6NLPZoRc7ov",
        "colab": {
          "base_uri": "https://localhost:8080/"
        },
        "outputId": "a75f81d9-9590-40ed-d535-d85465791f3c"
      },
      "execution_count": 5,
      "outputs": [
        {
          "output_type": "stream",
          "name": "stdout",
          "text": [
            "10 é par\n"
          ]
        }
      ]
    },
    {
      "cell_type": "markdown",
      "source": [
        "5. Crie uma função que receba dois números e retorne a soma deles."
      ],
      "metadata": {
        "id": "5dKg-xpvc4xs"
      }
    },
    {
      "cell_type": "code",
      "source": [
        "def soma(a, b):\n",
        "    return a + b\n",
        "\n",
        "resultado = soma(5, 7)\n",
        "print(resultado)\n"
      ],
      "metadata": {
        "id": "iv1-9Zytc4S3",
        "colab": {
          "base_uri": "https://localhost:8080/"
        },
        "outputId": "40dfdac7-2841-419c-85f9-d3c63b5eb43b"
      },
      "execution_count": 6,
      "outputs": [
        {
          "output_type": "stream",
          "name": "stdout",
          "text": [
            "12\n"
          ]
        }
      ]
    },
    {
      "cell_type": "markdown",
      "source": [
        "6. Crie uma lista com os números de 1 a 5 e imprima-a.\n"
      ],
      "metadata": {
        "id": "zsdBZtyjc_62"
      }
    },
    {
      "cell_type": "code",
      "source": [
        "lista = [1, 2, 3, 4, 5]\n",
        "print(lista)"
      ],
      "metadata": {
        "id": "xGgkwH7jdCh-",
        "colab": {
          "base_uri": "https://localhost:8080/"
        },
        "outputId": "3df941a3-5114-4193-a806-d62af96a975b"
      },
      "execution_count": 7,
      "outputs": [
        {
          "output_type": "stream",
          "name": "stdout",
          "text": [
            "[1, 2, 3, 4, 5]\n"
          ]
        }
      ]
    },
    {
      "cell_type": "markdown",
      "source": [
        "7. Adicione o número 6 à lista criada na questão anterior.\n"
      ],
      "metadata": {
        "id": "snUAe4qddFsm"
      }
    },
    {
      "cell_type": "code",
      "source": [
        "lista = [1, 2, 3, 4, 5]\n",
        "lista.append(6)\n",
        "print(lista)\n"
      ],
      "metadata": {
        "id": "QVpSgy7FdGk9",
        "colab": {
          "base_uri": "https://localhost:8080/"
        },
        "outputId": "730c897b-5912-4995-9b4b-78ba12449656"
      },
      "execution_count": 8,
      "outputs": [
        {
          "output_type": "stream",
          "name": "stdout",
          "text": [
            "[1, 2, 3, 4, 5, 6]\n"
          ]
        }
      ]
    },
    {
      "cell_type": "markdown",
      "source": [
        "8. Remova o número 3 da lista."
      ],
      "metadata": {
        "id": "4HT4BfD1dI8f"
      }
    },
    {
      "cell_type": "code",
      "source": [
        "lista = [1, 2, 3, 4, 5, 6]\n",
        "lista.remove(3)\n",
        "print(lista)\n"
      ],
      "metadata": {
        "id": "QCCxAurPdKjB",
        "colab": {
          "base_uri": "https://localhost:8080/"
        },
        "outputId": "4cf609ae-da53-4de8-d778-ebbe029e27c1"
      },
      "execution_count": 9,
      "outputs": [
        {
          "output_type": "stream",
          "name": "stdout",
          "text": [
            "[1, 2, 4, 5, 6]\n"
          ]
        }
      ]
    },
    {
      "cell_type": "markdown",
      "source": [
        "9. Acesse o terceiro elemento da lista."
      ],
      "metadata": {
        "id": "RyI_EEltdMZt"
      }
    },
    {
      "cell_type": "code",
      "source": [
        "lista = [1, 2, 4, 5, 6]\n",
        "terceiro_elemento = lista[2]\n",
        "print(terceiro_elemento)\n"
      ],
      "metadata": {
        "id": "HIkSUt_EdOSD",
        "colab": {
          "base_uri": "https://localhost:8080/"
        },
        "outputId": "8af64352-42f9-4080-98d5-708bbb09c28a"
      },
      "execution_count": 10,
      "outputs": [
        {
          "output_type": "stream",
          "name": "stdout",
          "text": [
            "4\n"
          ]
        }
      ]
    },
    {
      "cell_type": "markdown",
      "source": [
        "10. Imprima o tamanho da lista."
      ],
      "metadata": {
        "id": "yQjJYNSsdQUI"
      }
    },
    {
      "cell_type": "code",
      "source": [
        "lista = [1, 2, 4, 5, 6]\n",
        "tamanho = len(lista)\n",
        "print(tamanho)\n"
      ],
      "metadata": {
        "id": "Nz1jOedbdTR-",
        "colab": {
          "base_uri": "https://localhost:8080/"
        },
        "outputId": "66a6fced-b398-4733-ae81-eb651a3ce348"
      },
      "execution_count": 11,
      "outputs": [
        {
          "output_type": "stream",
          "name": "stdout",
          "text": [
            "5\n"
          ]
        }
      ]
    },
    {
      "cell_type": "markdown",
      "source": [
        "11. Crie um dicionário com informações de um carro (marca, modelo, ano)."
      ],
      "metadata": {
        "id": "2gm3RaRKdyCg"
      }
    },
    {
      "cell_type": "code",
      "source": [
        "carro = {\n",
        "    \"marca\": \"Toyota\",\n",
        "    \"modelo\": \"Corolla\",\n",
        "    \"ano\": 2020\n",
        "}\n",
        "\n",
        "print(carro)\n"
      ],
      "metadata": {
        "id": "gL_Svemid1kG",
        "colab": {
          "base_uri": "https://localhost:8080/"
        },
        "outputId": "b8f16760-a476-4d35-e19c-8ac0f1ad300d"
      },
      "execution_count": 12,
      "outputs": [
        {
          "output_type": "stream",
          "name": "stdout",
          "text": [
            "{'marca': 'Toyota', 'modelo': 'Corolla', 'ano': 2020}\n"
          ]
        }
      ]
    },
    {
      "cell_type": "markdown",
      "source": [
        "12. Acesse o valor associado à chave \"marca\" no dicionário."
      ],
      "metadata": {
        "id": "ng6tNEYtd0hE"
      }
    },
    {
      "cell_type": "code",
      "source": [
        "carro = {\n",
        "    \"marca\": \"Toyota\",\n",
        "    \"modelo\": \"Corolla\",\n",
        "    \"ano\": 2020\n",
        "}\n",
        "\n",
        "marca_do_carro = carro[\"marca\"]\n",
        "print(marca_do_carro)\n"
      ],
      "metadata": {
        "id": "VPDbrV6Ad0Pn",
        "colab": {
          "base_uri": "https://localhost:8080/"
        },
        "outputId": "6b32a3d3-d540-47c2-bf54-5ab45f9d7578"
      },
      "execution_count": 13,
      "outputs": [
        {
          "output_type": "stream",
          "name": "stdout",
          "text": [
            "Toyota\n"
          ]
        }
      ]
    },
    {
      "cell_type": "markdown",
      "source": [
        "13. Adicione uma nova chave \"cor\" com valor \"preto\" ao dicionário."
      ],
      "metadata": {
        "id": "Ov93hI7Td7c9"
      }
    },
    {
      "cell_type": "code",
      "source": [
        "carro = {\n",
        "    \"marca\": \"Toyota\",\n",
        "    \"modelo\": \"Corolla\",\n",
        "    \"ano\": 2020\n",
        "}\n",
        "\n",
        "carro[\"cor\"] = \"preto\"\n",
        "\n",
        "print(carro)\n"
      ],
      "metadata": {
        "id": "TrQLLfpid69U",
        "colab": {
          "base_uri": "https://localhost:8080/"
        },
        "outputId": "561063de-1adc-4001-8fe2-4d6451ff3b0b"
      },
      "execution_count": 14,
      "outputs": [
        {
          "output_type": "stream",
          "name": "stdout",
          "text": [
            "{'marca': 'Toyota', 'modelo': 'Corolla', 'ano': 2020, 'cor': 'preto'}\n"
          ]
        }
      ]
    },
    {
      "cell_type": "markdown",
      "source": [
        "14. Verifique se a chave \"modelo\" existe no dicionário.\n"
      ],
      "metadata": {
        "id": "b_5cOma2d9LP"
      }
    },
    {
      "cell_type": "code",
      "source": [
        "carro = {\n",
        "    \"marca\": \"Toyota\",\n",
        "    \"modelo\": \"Corolla\",\n",
        "    \"ano\": 2020,\n",
        "    \"cor\": \"preto\"\n",
        "}\n",
        "\n",
        "if \"modelo\" in carro:\n",
        "    print(\"A chave 'modelo' existe no dicionário.\")\n",
        "else:\n",
        "    print(\"A chave 'modelo' não existe no dicionário.\")\n"
      ],
      "metadata": {
        "id": "DUMaXPQYd8bM",
        "colab": {
          "base_uri": "https://localhost:8080/"
        },
        "outputId": "395d137a-938b-48ec-d7b9-991fa741f20e"
      },
      "execution_count": 15,
      "outputs": [
        {
          "output_type": "stream",
          "name": "stdout",
          "text": [
            "A chave 'modelo' existe no dicionário.\n"
          ]
        }
      ]
    },
    {
      "cell_type": "markdown",
      "source": [
        "15. Itere sobre as chaves do dicionário e imprima cada uma delas."
      ],
      "metadata": {
        "id": "Zpqnxu2ReBZH"
      }
    },
    {
      "cell_type": "code",
      "source": [
        "carro = {\n",
        "    \"marca\": \"Toyota\",\n",
        "    \"modelo\": \"Corolla\",\n",
        "    \"ano\": 2020,\n",
        "    \"cor\": \"preto\"\n",
        "}\n",
        "\n",
        "for chave in carro:\n",
        "    print(chave)\n"
      ],
      "metadata": {
        "id": "4juQCK0veA-g",
        "colab": {
          "base_uri": "https://localhost:8080/"
        },
        "outputId": "a1394f13-7576-4963-b7da-303585bd1924"
      },
      "execution_count": 16,
      "outputs": [
        {
          "output_type": "stream",
          "name": "stdout",
          "text": [
            "marca\n",
            "modelo\n",
            "ano\n",
            "cor\n"
          ]
        }
      ]
    },
    {
      "cell_type": "markdown",
      "source": [
        "15. Itere sobre as chaves do dicionário e imprima cada uma delas."
      ],
      "metadata": {
        "id": "GAoDb4pneG-j"
      }
    },
    {
      "cell_type": "code",
      "source": [
        "carro = {\n",
        "    \"marca\": \"Toyota\",\n",
        "    \"modelo\": \"Corolla\",\n",
        "    \"ano\": 2020,\n",
        "    \"cor\": \"preto\"\n",
        "}\n",
        "\n",
        "for chave in carro:\n",
        "    print(chave)"
      ],
      "metadata": {
        "id": "aqi8-PtUeGx5",
        "colab": {
          "base_uri": "https://localhost:8080/"
        },
        "outputId": "a831c9de-2fa9-4b5e-87f4-556b469d4548"
      },
      "execution_count": 17,
      "outputs": [
        {
          "output_type": "stream",
          "name": "stdout",
          "text": [
            "marca\n",
            "modelo\n",
            "ano\n",
            "cor\n"
          ]
        }
      ]
    },
    {
      "cell_type": "markdown",
      "source": [
        "17. Crie uma função que receba uma lista e retorne a soma dos elementos."
      ],
      "metadata": {
        "id": "oxI3BVhteGhH"
      }
    },
    {
      "cell_type": "code",
      "source": [
        "def soma_elementos(lista):\n",
        "    return sum(lista)\n",
        "\n",
        "numeros = [1, 2, 3, 4, 5]\n",
        "resultado = soma_elementos(numeros)\n",
        "print(resultado)\n"
      ],
      "metadata": {
        "id": "Ijnkd3cJeMM_",
        "colab": {
          "base_uri": "https://localhost:8080/"
        },
        "outputId": "742a58b2-22cf-4526-cc74-d80598873dca"
      },
      "execution_count": 18,
      "outputs": [
        {
          "output_type": "stream",
          "name": "stdout",
          "text": [
            "15\n"
          ]
        }
      ]
    },
    {
      "cell_type": "markdown",
      "source": [
        "18. Crie uma função que receba um dicionário e retorne todas as suas chaves.\n"
      ],
      "metadata": {
        "id": "Abqc7zdfeNl7"
      }
    },
    {
      "cell_type": "code",
      "source": [
        "def obter_chaves(dicionario):\n",
        "    return list(dicionario.keys())\n",
        "\n",
        "carro = {\n",
        "    \"marca\": \"Toyota\",\n",
        "    \"modelo\": \"Corolla\",\n",
        "    \"ano\": 2020,\n",
        "    \"cor\": \"preto\"\n",
        "}\n",
        "\n",
        "chaves_carro = obter_chaves(carro)\n",
        "print(chaves_carro)\n"
      ],
      "metadata": {
        "id": "ZbHQ9bipeQc3",
        "colab": {
          "base_uri": "https://localhost:8080/"
        },
        "outputId": "d84f09bb-c578-4117-ffb4-65973500e955"
      },
      "execution_count": 19,
      "outputs": [
        {
          "output_type": "stream",
          "name": "stdout",
          "text": [
            "['marca', 'modelo', 'ano', 'cor']\n"
          ]
        }
      ]
    },
    {
      "cell_type": "markdown",
      "source": [
        "\n",
        "19. Crie uma função que receba um dicionário e imprima chave e valor em linhas separadas."
      ],
      "metadata": {
        "id": "wF_R9JlDeNip"
      }
    },
    {
      "cell_type": "code",
      "source": [
        "def imprimir_chaves_e_valores(dicionario):\n",
        "    for chave, valor in dicionario.items():\n",
        "        print(f\"Chave: {chave}\")\n",
        "        print(f\"Valor: {valor}\")\n",
        "        print()\n",
        "\n",
        "carro = {\n",
        "    \"marca\": \"Toyota\",\n",
        "    \"modelo\": \"Corolla\",\n",
        "    \"ano\": 2020,\n",
        "    \"cor\": \"preto\"\n",
        "}\n",
        "\n",
        "imprimir_chaves_e_valores(carro)\n"
      ],
      "metadata": {
        "id": "ONvkXUDWeVX3",
        "colab": {
          "base_uri": "https://localhost:8080/"
        },
        "outputId": "78954aba-5e58-4b06-83eb-4dfec0431d0f"
      },
      "execution_count": 20,
      "outputs": [
        {
          "output_type": "stream",
          "name": "stdout",
          "text": [
            "Chave: marca\n",
            "Valor: Toyota\n",
            "\n",
            "Chave: modelo\n",
            "Valor: Corolla\n",
            "\n",
            "Chave: ano\n",
            "Valor: 2020\n",
            "\n",
            "Chave: cor\n",
            "Valor: preto\n",
            "\n"
          ]
        }
      ]
    },
    {
      "cell_type": "markdown",
      "source": [
        "20. Crie uma classe chamada Pessoa com atributos nome e idade, e um método que imprima esses dados."
      ],
      "metadata": {
        "id": "5ZSYRpJ-eM4s"
      }
    },
    {
      "cell_type": "code",
      "source": [
        "class Pessoa:\n",
        "    def __init__(self, nome, idade):\n",
        "        self.nome = nome\n",
        "        self.idade = idade\n",
        "\n",
        "    def imprimir_dados(self):\n",
        "        print(f\"Nome: {self.nome}\")\n",
        "        print(f\"Idade: {self.idade}\")\n",
        "\n",
        "pessoa1 = Pessoa(\"João\", 30)\n",
        "pessoa1.imprimir_dados()\n"
      ],
      "metadata": {
        "id": "RNqpzQzdeYUG",
        "colab": {
          "base_uri": "https://localhost:8080/"
        },
        "outputId": "ac1a3e7e-7294-41ee-b701-1f0da80b7344"
      },
      "execution_count": 21,
      "outputs": [
        {
          "output_type": "stream",
          "name": "stdout",
          "text": [
            "Nome: João\n",
            "Idade: 30\n"
          ]
        }
      ]
    }
  ]
}